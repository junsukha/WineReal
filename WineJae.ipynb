{
 "cells": [
  {
   "cell_type": "code",
   "execution_count": 65,
   "metadata": {},
   "outputs": [],
   "source": [
    "import pandas as pd\n",
    "import csv\n",
    "import numpy as np\n",
    "from sklearn.linear_model import LinearRegression"
   ]
  },
  {
   "cell_type": "code",
   "execution_count": 112,
   "metadata": {},
   "outputs": [],
   "source": [
    "# file read into 2D list then convert to numpy matrix\n",
    "database = []\n",
    "dataheader = 0\n",
    "DATA_SIZE = 100\n",
    "\n",
    "with open('winequality-red.csv', newline='') as csvfile:\n",
    "    spamreader = csv.reader(csvfile, delimiter=',', quotechar='|')\n",
    "    dataheader = spamreader.__next__()\n",
    "    counter = 0\n",
    "    for row in spamreader:\n",
    "        row = np.asarray(row).astype(np.float64)\n",
    "        database.append(row)\n",
    "        counter += 1\n",
    "        if counter > DATA_SIZE:\n",
    "            break\n",
    "# print(np.matrix(database))\n",
    "database = np.matrix(database)"
   ]
  },
  {
   "cell_type": "code",
   "execution_count": 117,
   "metadata": {},
   "outputs": [],
   "source": [
    "# divide into test and train data\n",
    "# Then do linear regression\n",
    "test_size = database.shape[0] // 8\n",
    "train_size = database.shape[0] - test_size\n",
    "train_data, test_data = np.vsplit(database, np.array([train_size]))\n",
    "\n",
    "\n",
    "train_x, train_y = np.hsplit(train_data, np.array([len(dataheader)-1]))\n",
    "test_x, test_y = np.hsplit(test_data, np.array([len(dataheader)-1]))\n",
    "\n",
    "lr = LinearRegression().fit(train_x, train_y)"
   ]
  },
  {
   "cell_type": "code",
   "execution_count": 118,
   "metadata": {},
   "outputs": [
    {
     "name": "stdout",
     "output_type": "stream",
     "text": [
      "0.24881687985064074\n",
      "0.07798003515934615\n"
     ]
    }
   ],
   "source": [
    "# Display score\n",
    "print(lr.score(train_x, train_y))\n",
    "print(lr.score(test_x, test_y))\n",
    "# \n",
    "# Currently, score for test is really low, which means the prediction is pretty bad,\n",
    "#     or our model is over-trained. May try \"ridge regression\"\n",
    "# "
   ]
  },
  {
   "cell_type": "code",
   "execution_count": null,
   "metadata": {},
   "outputs": [],
   "source": []
  },
  {
   "cell_type": "code",
   "execution_count": null,
   "metadata": {},
   "outputs": [],
   "source": []
  }
 ],
 "metadata": {
  "kernelspec": {
   "display_name": "Python 3",
   "language": "python",
   "name": "python3"
  },
  "language_info": {
   "codemirror_mode": {
    "name": "ipython",
    "version": 3
   },
   "file_extension": ".py",
   "mimetype": "text/x-python",
   "name": "python",
   "nbconvert_exporter": "python",
   "pygments_lexer": "ipython3",
   "version": "3.7.4"
  }
 },
 "nbformat": 4,
 "nbformat_minor": 4
}
